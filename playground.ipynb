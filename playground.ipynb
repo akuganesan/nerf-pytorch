{
 "cells": [
  {
   "cell_type": "code",
   "execution_count": 2,
   "id": "0b21d060",
   "metadata": {},
   "outputs": [],
   "source": [
    "import torch"
   ]
  },
  {
   "cell_type": "code",
   "execution_count": 3,
   "id": "53bda326",
   "metadata": {},
   "outputs": [],
   "source": [
    "# pos = torch.rand((65536, 3), dtype=torch.float)\n",
    "pos = torch.stack((torch.arange(0, 65536), torch.arange(0, 65536), torch.arange(0, 65536)), dim=1)\n",
    "fn = torch.sin\n",
    "freq = 2"
   ]
  },
  {
   "cell_type": "code",
   "execution_count": 15,
   "id": "02187ae2",
   "metadata": {},
   "outputs": [],
   "source": [
    "samples = torch.cat([pos[::2], pos[-1].unsqueeze(0)])\n",
    "intermediate = pos[1::2][:-1]\n",
    "projected = fn(freq*samples)\n",
    "# projected = samples"
   ]
  },
  {
   "cell_type": "code",
   "execution_count": 16,
   "id": "749bcc30",
   "metadata": {},
   "outputs": [],
   "source": [
    "slopes = (projected[:-1][1::1] - projected[:-2][0::1]) / (samples[:-1][1::1] - samples[:-2][0::1])\n",
    "bs = projected[:-2] - (slopes*samples[:-2])\n",
    "interpolated = (slopes*intermediate) + bs\n",
    "interleaved = torch.stack((projected[:-1], torch.cat([interpolated, projected[-1].unsqueeze(0)])), dim=1).view(pos.t().shape).contiguous().view(pos.shape)"
   ]
  },
  {
   "cell_type": "code",
   "execution_count": 17,
   "id": "d8c4128d",
   "metadata": {},
   "outputs": [
    {
     "name": "stdout",
     "output_type": "stream",
     "text": [
      "torch.Size([65536, 3])\n",
      "tensor([[ 0.0000,  0.0000,  0.0000],\n",
      "        [-0.3784, -0.3784, -0.3784],\n",
      "        [-0.7568, -0.7568, -0.7568],\n",
      "        [ 0.1163,  0.1163,  0.1163],\n",
      "        [ 0.9894,  0.9894,  0.9894],\n",
      "        [ 0.2264,  0.2264,  0.2264],\n",
      "        [-0.5366, -0.5366, -0.5366],\n",
      "        [-0.4122, -0.4122, -0.4122],\n",
      "        [-0.2879, -0.2879, -0.2879],\n",
      "        [ 0.3125,  0.3125,  0.3125],\n",
      "        [ 0.9129,  0.9129,  0.9129],\n",
      "        [ 0.0037,  0.0037,  0.0037],\n",
      "        [-0.9056, -0.9056, -0.9056],\n",
      "        [-0.3173, -0.3173, -0.3173],\n",
      "        [ 0.2709,  0.2709,  0.2709],\n",
      "        [ 0.4112,  0.4112,  0.4112],\n",
      "        [ 0.5514,  0.5514,  0.5514],\n",
      "        [-0.2202, -0.2202, -0.2202],\n",
      "        [-0.9918, -0.9918, -0.9918],\n",
      "        [-0.1233, -0.1233, -0.1233],\n",
      "        [ 0.7451,  0.7451,  0.7451],\n",
      "        [ 0.3814,  0.3814,  0.3814],\n",
      "        [ 0.0177,  0.0177,  0.0177],\n",
      "        [-0.3753, -0.3753, -0.3753],\n",
      "        [-0.7683, -0.7683, -0.7683]])\n"
     ]
    }
   ],
   "source": [
    "print(interleaved.shape)\n",
    "print(interleaved[:25])"
   ]
  }
 ],
 "metadata": {
  "kernelspec": {
   "display_name": "Python 3 (ipykernel)",
   "language": "python",
   "name": "python3"
  },
  "language_info": {
   "codemirror_mode": {
    "name": "ipython",
    "version": 3
   },
   "file_extension": ".py",
   "mimetype": "text/x-python",
   "name": "python",
   "nbconvert_exporter": "python",
   "pygments_lexer": "ipython3",
   "version": "3.7.10"
  }
 },
 "nbformat": 4,
 "nbformat_minor": 5
}
